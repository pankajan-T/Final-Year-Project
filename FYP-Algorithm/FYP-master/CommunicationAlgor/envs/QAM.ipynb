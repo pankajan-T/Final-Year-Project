{
 "cells": [
  {
   "cell_type": "markdown",
   "metadata": {},
   "source": [
    "# 16-QAM communication inside Python"
   ]
  },
  {
   "cell_type": "markdown",
   "metadata": {},
   "source": [
    "## Transmission "
   ]
  },
  {
   "cell_type": "code",
   "execution_count": 1,
   "metadata": {},
   "outputs": [],
   "source": [
    "import numpy as np\n",
    "import commpy as cp\n",
    "import scipy.signal as sig\n",
    "import math\n",
    "import cmath"
   ]
  },
  {
   "cell_type": "markdown",
   "metadata": {},
   "source": [
    "#### Bitstream Generation"
   ]
  },
  {
   "cell_type": "markdown",
   "metadata": {},
   "source": [
    "##### data bits size= N\n",
    "##### Sync databits size = data_sync"
   ]
  },
  {
   "cell_type": "code",
   "execution_count": 2,
   "metadata": {},
   "outputs": [],
   "source": [
    "def dataGenerator(N, Synq=0):\n",
    "   if Synq == 0:\n",
    "      SynqTemp = []\n",
    "      \n",
    "      for i in range(176):\n",
    "            SynqTemp.append(1)\n",
    "      \n",
    "      SynqSymb = [0, 0, 0, 0, 1, 1, 1, 1, 0, 0, 0, 0, 1, 1, 1, 1]\n",
    "      \n",
    "      Synq = np.concatenate((SynqTemp, SynqSymb), axis=None)\n",
    "      \n",
    "   Temp = np.random.rand(N - len(Synq))\n",
    "   Temp[np.where(Temp >= 0.5)] = 1\n",
    "   Temp[np.where(Temp < 0.5)] = 0\n",
    "   \n",
    "   Out = np.concatenate((Synq, Temp), axis=None)\n",
    "   return(Out)"
   ]
  },
  {
   "cell_type": "markdown",
   "metadata": {},
   "source": [
    "##### We slice the bitstream into odd and even positions"
   ]
  },
  {
   "cell_type": "code",
   "execution_count": 3,
   "metadata": {},
   "outputs": [],
   "source": [
    "def Slice(bits):\n",
    "   BitsQuadrature = bits[\n",
    "      slice(1, len(bits), 2)\n",
    "      ]\n",
    "   BitsInphase = bits[\n",
    "      slice(0, len(bits), 2)\n",
    "      ]\n",
    "   \n",
    "   return(BitsInphase, BitsQuadrature)"
   ]
  },
  {
   "cell_type": "markdown",
   "metadata": {},
   "source": [
    "##### Modulating the bits to 16-QAM"
   ]
  },
  {
   "cell_type": "code",
   "execution_count": 4,
   "metadata": {},
   "outputs": [],
   "source": [
    "def Modulator16QAM(QAM16Vect, dataIn):\n",
    "   Index = 2*dataIn[slice(0, len(dataIn), 2)] + dataIn[slice(1, len(dataIn), 2)]\n",
    "   \n",
    "   Index = list(map(int, Index))\n",
    "   \n",
    "   Modulated = []\n",
    "   \n",
    "   for i in range(len(Index)):\n",
    "      \n",
    "      Modulated.append(QAM16Vect[Index[i]])\n",
    "      \n",
    "   return(Modulated)"
   ]
  },
  {
   "cell_type": "markdown",
   "metadata": {},
   "source": [
    "##### Modulating the bits to 8-QAM"
   ]
  },
  {
   "cell_type": "code",
   "execution_count": 5,
   "metadata": {},
   "outputs": [],
   "source": [
    "def Modulator8QAM(QAM8Vect, dataIn):\n",
    "   Quadrature= QAM8Vect[0]\n",
    "   Inphase= QAM8Vect[1]\n",
    "\n",
    "   # Index = list(map(int, Index))\n",
    "\n",
    "   Modulated = [[],[]]\n",
    "\n",
    "   for i in range(0,len(dataIn),3):\n",
    "      sample= list(map(int,dataIn[i:i+3]))\n",
    "\n",
    "\n",
    "      if(sample==[0,0,0]):\n",
    "         Modulated[0].append(Inphase[0])\n",
    "         Modulated[1].append(Quadrature[1])\n",
    "         \n",
    "      elif(sample==[0,0,1]):\n",
    "         Modulated[0].append(Inphase[1])\n",
    "         Modulated[1].append(Quadrature[1])\n",
    "\n",
    "      elif(sample==[0,1,0]):\n",
    "         Modulated[0].append(Inphase[2])\n",
    "         Modulated[1].append(Quadrature[1])\n",
    "         \n",
    "\n",
    "      elif(sample==[0,1,1]):\n",
    "         Modulated[0].append(Inphase[3])\n",
    "         Modulated[1].append(Quadrature[1])\n",
    "\n",
    "      elif(sample==[1,0,0]):\n",
    "         Modulated[0].append(Inphase[0])\n",
    "         Modulated[1].append(Quadrature[0])\n",
    "\n",
    "      elif(sample==[1,0,1]):\n",
    "\n",
    "         Modulated[0].append(Inphase[1])\n",
    "         Modulated[1].append(Quadrature[0])\n",
    "         \n",
    "      elif(sample==[1,1,0]):\n",
    "         Modulated[0].append(Inphase[2])\n",
    "         Modulated[1].append(Quadrature[0])\n",
    "\n",
    "      elif(sample==[1,1,1]):         \n",
    "         Modulated[0].append(Inphase[3])\n",
    "         Modulated[1].append(Quadrature[0])\n",
    "\n",
    "   return Modulated"
   ]
  },
  {
   "cell_type": "markdown",
   "metadata": {},
   "source": [
    "##### 8-PSK modulator"
   ]
  },
  {
   "cell_type": "code",
   "execution_count": 6,
   "metadata": {},
   "outputs": [],
   "source": [
    "def Modulator8PSK(PSK8, dataIn):\n",
    "\n",
    "\n",
    "\n",
    "   # Index = list(map(int, Index))\n",
    "\n",
    "   Modulated = [[],[]]\n",
    "\n",
    "   for i in range(0,len(dataIn),3):\n",
    "      sample= list(map(int,dataIn[i:i+3]))\n",
    "\n",
    "\n",
    "      if(sample==[0,0,0]):\n",
    "         Modulated[0].append(PSK8[0])\n",
    "         Modulated[1].append(PSK8[2])\n",
    "         \n",
    "      elif(sample==[0,0,1]):\n",
    "         Modulated[0].append(PSK8[1])\n",
    "         Modulated[1].append(PSK8[3])\n",
    "\n",
    "      elif(sample==[0,1,0]):\n",
    "         Modulated[0].append(PSK8[2])\n",
    "         Modulated[1].append(PSK8[4])\n",
    "         \n",
    "\n",
    "      elif(sample==[0,1,1]):\n",
    "         Modulated[0].append(PSK8[3])\n",
    "         Modulated[1].append(PSK8[3])\n",
    "\n",
    "      elif(sample==[1,0,0]):\n",
    "         Modulated[0].append(PSK8[4])\n",
    "         Modulated[1].append(PSK8[2])\n",
    "\n",
    "      elif(sample==[1,0,1]):\n",
    "\n",
    "         Modulated[0].append(PSK8[3])\n",
    "         Modulated[1].append(PSK8[1])\n",
    "         \n",
    "      elif(sample==[1,1,0]):\n",
    "         Modulated[0].append(PSK8[2])\n",
    "         Modulated[1].append(PSK8[0])\n",
    "\n",
    "      elif(sample==[1,1,1]):         \n",
    "         Modulated[0].append(PSK8[1])\n",
    "         Modulated[1].append(PSK8[1])\n",
    "\n",
    "   return Modulated"
   ]
  },
  {
   "cell_type": "markdown",
   "metadata": {},
   "source": [
    "##### Upsampling if necessacry"
   ]
  },
  {
   "cell_type": "code",
   "execution_count": 7,
   "metadata": {},
   "outputs": [],
   "source": [
    "def Upsampler(Ns, K, symbols):\n",
    "   Out = np.zeros(Ns*K)\n",
    "   \n",
    "   Out[slice(0, len(Out), K)] = symbols\n",
    "   \n",
    "   return(Out)"
   ]
  },
  {
   "cell_type": "markdown",
   "metadata": {},
   "source": [
    "#### Pulse shapping the signal"
   ]
  },
  {
   "cell_type": "code",
   "execution_count": 8,
   "metadata": {},
   "outputs": [],
   "source": [
    "def PulseShapping(Data, Ns, alpha, Fif, Fs):\n",
    "   [x_axis, y_response] = cp.rrcosfilter(Ns, alpha, 2/Fif, Fs)\n",
    "   shaped_signal = np.convolve(Data, y_response, 'full')\n",
    "   return(shaped_signal, x_axis, y_response)\n"
   ]
  },
  {
   "cell_type": "markdown",
   "metadata": {},
   "source": [
    "##### Carrier frequency  generator"
   ]
  },
  {
   "cell_type": "code",
   "execution_count": 9,
   "metadata": {},
   "outputs": [],
   "source": [
    "def CarrierGen(start, stop, step, frequency, phase=0):\n",
    "   t = np.arange(start, stop, step)\n",
    "   Osc = np.sin(2*math.pi*frequency*t + phase)\n",
    "   return(Osc, t)"
   ]
  },
  {
   "cell_type": "markdown",
   "metadata": {},
   "source": [
    "##### Mixer to apply carrier elements to the signal"
   ]
  },
  {
   "cell_type": "code",
   "execution_count": 10,
   "metadata": {},
   "outputs": [],
   "source": [
    "def Mixer(signal, carrier):\n",
    "   mix = []\n",
    "   for i in range(len(signal)):\n",
    "      mix.append(signal[i]*carrier[i])\n",
    "   return(mix)"
   ]
  },
  {
   "cell_type": "markdown",
   "metadata": {},
   "source": [
    "##### Combine Quarature and Inphase signas"
   ]
  },
  {
   "cell_type": "code",
   "execution_count": 11,
   "metadata": {},
   "outputs": [],
   "source": [
    "def combiner(signal_I, signal_Q):\n",
    "   combined_sig = []\n",
    "   for i in range(len(signal_I)):\n",
    "      combined_sig.append(signal_I[i] + signal_Q[i])\n",
    "   return(combined_sig)"
   ]
  },
  {
   "cell_type": "markdown",
   "metadata": {},
   "source": [
    "## Channel"
   ]
  },
  {
   "cell_type": "markdown",
   "metadata": {},
   "source": [
    "##### Generating AWGN noise"
   ]
  },
  {
   "cell_type": "code",
   "execution_count": 12,
   "metadata": {},
   "outputs": [],
   "source": [
    "def AWGN(IFsig, SNR):\n",
    "   dP = np.zeros(len(IFsig))\n",
    "   P = 0\n",
    "\n",
    "   for i in range(len(IFsig)):\n",
    "      dP[i] = abs(IFsig[i])**2\n",
    "      P = P + dP[i]\n",
    "\n",
    "   P = P/len(IFsig)\n",
    "   gamma = 10**(SNR/10)\n",
    "   N0 = P/gamma\n",
    "   n = ((N0/2)**(0.5))*np.random.standard_normal(len(IFsig))\n",
    "   IF_n = np.zeros(len(IFsig))\n",
    "\n",
    "   for i in range(len(IFsig)):\n",
    "      IF_n[i] = IFsig[i] + n[i]\n",
    "\n",
    "   return(IF_n)"
   ]
  },
  {
   "cell_type": "markdown",
   "metadata": {},
   "source": [
    "## Reciever"
   ]
  },
  {
   "cell_type": "markdown",
   "metadata": {},
   "source": [
    "##### Carrier signal synchronization"
   ]
  },
  {
   "cell_type": "code",
   "execution_count": 13,
   "metadata": {},
   "outputs": [],
   "source": [
    "def PLL(input_signal, Fs, lenght, N):\n",
    "   zeta = .707  # damping factor\n",
    "   k = 1\n",
    "   Bn = 0.01*Fs  #Noise Bandwidth\n",
    "   K_0 = 1  # NCO gain\n",
    "   K_d = 1/2  # Phase Detector gain\n",
    "   K_p = (1/(K_d*K_0))*((4*zeta)/(zeta+(1/(4*zeta)))) * \\\n",
    "      (Bn/Fs)  # Proporcional gain\n",
    "   K_i = (1/(K_d*K_0))*(4/(zeta+(1/(4*zeta)**2))) * \\\n",
    "      (Bn/Fs)**2  # Integrator gain\n",
    "   integrator_out = 0\n",
    "   phase_estimate = np.zeros(lenght)\n",
    "   e_D = []  # phase-error output\n",
    "   e_F = []  # loop filter output\n",
    "   sin_out_n = np.zeros(lenght)\n",
    "   cos_out_n = np.ones(lenght)\n",
    "   for n in range(lenght-1):\n",
    "      # phase detector\n",
    "      try:\n",
    "            e_D.append(\n",
    "               math.atan(input_signal[n] * (cos_out_n[n] + sin_out_n[n])))\n",
    "      except IndexError:\n",
    "            e_D.append(0)\n",
    "      # loop filter\n",
    "      integrator_out += K_i * e_D[n]\n",
    "      e_F.append(K_p * e_D[n] + integrator_out)\n",
    "      # NCO\n",
    "      try:\n",
    "            phase_estimate[n+1] = phase_estimate[n] + K_0 * e_F[n]\n",
    "      except IndexError:\n",
    "            phase_estimate[n+1] = K_0 * e_F[n]\n",
    "      sin_out_n[n+1] = -np.sin(2*np.pi*(k/N)*(n+1) + phase_estimate[n])\n",
    "      cos_out_n[n+1] = np.cos(2*np.pi*(k/N)*(n+1) + phase_estimate[n])\n",
    "\n",
    "   sin_out_n = -sin_out_n\n",
    "   cos_out = cos_out_n[280:400]\n",
    "   sin_out = sin_out_n[280:400]\n",
    "\n",
    "   for i in range(18):\n",
    "      cos_out = np.concatenate(\n",
    "            (cos_out, cos_out_n[280:400], cos_out_n[280:400]), axis=None)\n",
    "      sin_out = np.concatenate(\n",
    "            (sin_out, sin_out_n[280:400], sin_out_n[280:400]), axis=None)\n",
    "   return(cos_out, sin_out)"
   ]
  },
  {
   "cell_type": "markdown",
   "metadata": {},
   "source": [
    "##### We already have the mixer algorithm"
   ]
  },
  {
   "cell_type": "markdown",
   "metadata": {},
   "source": [
    "##### Low pass filter "
   ]
  },
  {
   "cell_type": "code",
   "execution_count": 14,
   "metadata": {},
   "outputs": [],
   "source": [
    "def LPF(signal, fc, Fs,o=5):\n",
    "   \n",
    "    # order of the filter\n",
    "    \n",
    "   fc = np.array([fc])\n",
    "   \n",
    "   Band = 2*fc/Fs\n",
    "\n",
    "   [Num, Din] = sig.butter(o, Band, btype='loWpass')\n",
    "   [W, h] = sig.freqz(Num, Din, worN=1024)\n",
    "\n",
    "   W = Fs*W/(2*math.pi)\n",
    "\n",
    "   signal_filt = sig.lfilter(Num, Din, signal)\n",
    "   \n",
    "   return(signal_filt, W, h)"
   ]
  },
  {
   "cell_type": "markdown",
   "metadata": {},
   "source": [
    "##### Matched filter"
   ]
  },
  {
   "cell_type": "code",
   "execution_count": 15,
   "metadata": {},
   "outputs": [],
   "source": [
    "def MatchedFil(signal, template):\n",
    "   \n",
    "   signal_filt = np.convolve(signal, template, 'full')\n",
    "   \n",
    "   return(signal_filt)"
   ]
  },
  {
   "cell_type": "markdown",
   "metadata": {},
   "source": [
    "#### Downsampler"
   ]
  },
  {
   "cell_type": "code",
   "execution_count": 16,
   "metadata": {},
   "outputs": [],
   "source": [
    "def DownSamp(signal, packet_s, upsampler_f):\n",
    "   e = 0\n",
    "   gardner_e = []\n",
    "   peak_sample = 0\n",
    "   peak_sample_acc = []\n",
    "   low_point = 0\n",
    "   threshold = 4\n",
    "   for i in range(len(signal)):\n",
    "      if signal[low_point] < -threshold:\n",
    "            if signal[i] > threshold:\n",
    "               e = (abs(signal[(i+1)]) -\n",
    "                     abs(signal[i-1])) * abs(signal[i])\n",
    "               gardner_e.append(e)\n",
    "               if e > 0.8:\n",
    "                  peak_sample = peak_sample + 1\n",
    "                  peak_sample_acc.append(peak_sample)\n",
    "               elif e < -0.8:\n",
    "                  peak_sample = peak_sample - 1\n",
    "                  peak_sample_acc.append(peak_sample)\n",
    "               else:\n",
    "                  break\n",
    "            else:\n",
    "               peak_sample = peak_sample + 1\n",
    "               peak_sample_acc.append(peak_sample)\n",
    "      else:\n",
    "            low_point = low_point + 1\n",
    "            peak_sample = peak_sample + 1\n",
    "            peak_sample_acc.append(peak_sample)\n",
    "\n",
    "   # 450 is the number of samples before the convergence symbol of the algorithm.\n",
    "   cut_i = peak_sample - 450\n",
    "   cut_f = cut_i + int((packet_s/4)*upsampler_f)\n",
    "   print(\"Cut_i = \", cut_i)\n",
    "   print(\"Cut_f = \", cut_f)\n",
    "\n",
    "   # For the code to still work, even when there is a big BER, this secction is required.\n",
    "   if cut_i > 730:\n",
    "      signal = signal[261:2306+510]\n",
    "   elif cut_i < 690:\n",
    "      signal = signal[261:2306+510]\n",
    "   else:\n",
    "      signal = signal[cut_i:cut_f]\n",
    "\n",
    "   symbols = signal[slice(0, len(signal), upsampler_f)]\n",
    "   return(symbols)"
   ]
  },
  {
   "cell_type": "markdown",
   "metadata": {},
   "source": [
    "#### Demodulation 16-QAM"
   ]
  },
  {
   "cell_type": "code",
   "execution_count": 17,
   "metadata": {},
   "outputs": [],
   "source": [
    "def demodulator16QAM(symbols_I, symbols_Q, packetSize, threshold = 3.0):\n",
    "   Ns = int(packetSize/4)\n",
    "   bits_I = []\n",
    "   bits_Q = []\n",
    "   for i in range(Ns):\n",
    "      if symbols_I[i] >= 0 and symbols_I[i] <= threshold:\n",
    "            bits_I.append(1)\n",
    "            bits_I.append(0)\n",
    "\n",
    "      if symbols_I[i] > threshold:\n",
    "            bits_I.append(1)\n",
    "            bits_I.append(1)\n",
    "\n",
    "      if symbols_I[i] < 0 and symbols_I[i] >= -threshold:\n",
    "            bits_I.append(0)\n",
    "            bits_I.append(1)\n",
    "\n",
    "      if symbols_I[i] < -threshold:\n",
    "            bits_I.append(0)\n",
    "            bits_I.append(0)\n",
    "\n",
    "      if symbols_Q[i] >= 0 and symbols_Q[i] <= threshold:\n",
    "            bits_Q.append(1)\n",
    "            bits_Q.append(0)\n",
    "\n",
    "      if symbols_Q[i] > threshold:\n",
    "            bits_Q.append(1)\n",
    "            bits_Q.append(1)\n",
    "\n",
    "      if symbols_Q[i] < 0 and symbols_Q[i] >= -threshold:\n",
    "            bits_Q.append(0)\n",
    "            bits_Q.append(1)\n",
    "\n",
    "      if symbols_Q[i] < -threshold:\n",
    "            bits_Q.append(0)\n",
    "            bits_Q.append(0)\n",
    "\n",
    "   bits_I = list(map(int, bits_I))\n",
    "   bits_Q = list(map(int, bits_Q))\n",
    "\n",
    "   bitStream = np.zeros(packetSize)\n",
    "\n",
    "   for i in range(len(bits_I)):\n",
    "      bitStream[2*i] = bits_I[i]\n",
    "      bitStream[2*i-1] = bits_Q[i-1]\n",
    "   return(bitStream)"
   ]
  },
  {
   "cell_type": "markdown",
   "metadata": {},
   "source": [
    "##### Demodulation of 8-QAM"
   ]
  },
  {
   "cell_type": "code",
   "execution_count": 18,
   "metadata": {},
   "outputs": [],
   "source": [
    "def demodulator8QAM(symbols_I, symbols_Q, packetSize, threshold = 3.0):\n",
    "    Ns = int(packetSize/3)\n",
    "    # bits_I = []\n",
    "    # bits_Q = []\n",
    "\n",
    "    bitStream = []\n",
    "\n",
    "    for i in range(Ns):\n",
    "        if (symbols_I[i] < 0 and symbols_I[i] >= -threshold and symbols_Q[i] >=0):\n",
    "            bitStream.append(0)\n",
    "            bitStream.append(0)\n",
    "            bitStream.append(1)\n",
    "\n",
    "        if (symbols_I[i] < -threshold and symbols_Q[i] >=0):\n",
    "            bitStream.append(0)\n",
    "            bitStream.append(0)\n",
    "            bitStream.append(0)\n",
    "\n",
    "        if (symbols_I[i] >= threshold and symbols_Q[i] >=0):\n",
    "            bitStream.append(0)\n",
    "            bitStream.append(1)\n",
    "            bitStream.append(1)\n",
    "\n",
    "        if (symbols_I[i] >= 0 and symbols_I[i] < threshold and symbols_Q[i] >=0):\n",
    "            bitStream.append(0)\n",
    "            bitStream.append(1)\n",
    "            bitStream.append(0)\n",
    "\n",
    "        if (symbols_I[i] >= 0 and symbols_I[i] < threshold and symbols_Q[i] <0):\n",
    "            bitStream.append(1)\n",
    "            bitStream.append(1)\n",
    "            bitStream.append(0)\n",
    "\n",
    "        if (symbols_I[i] >= threshold and symbols_Q[i] <0):\n",
    "            bitStream.append(1)\n",
    "            bitStream.append(1)\n",
    "            bitStream.append(1)\n",
    "\n",
    "        if (symbols_I[i] < 0 and symbols_I[i] >= -threshold and symbols_Q[i] <0):\n",
    "            bitStream.append(1)\n",
    "            bitStream.append(0)\n",
    "            bitStream.append(1)\n",
    "\n",
    "        if (symbols_I[i] < -threshold and symbols_Q[i] <0):\n",
    "            bitStream.append(1)\n",
    "            bitStream.append(0)\n",
    "            bitStream.append(0)\n",
    "\n",
    " \n",
    "            \n",
    "    return(bitStream)"
   ]
  },
  {
   "cell_type": "markdown",
   "metadata": {},
   "source": [
    "#### 8-PSK Demodulation"
   ]
  },
  {
   "cell_type": "code",
   "execution_count": null,
   "metadata": {},
   "outputs": [],
   "source": [
    "def demodulator8PSK(symbols_I, symbols_Q, packetSize, threshold = 3.0):\n",
    "    Ns = int(packetSize/3)\n",
    "    \n",
    "\n",
    "    bitStream = []\n",
    "\n",
    "    for i in range(Ns):\n",
    "        \n",
    "        symbol_phase=cmath.phase(complex(symbols_I[i],symbols_Q[i]))\n",
    "        \n",
    "        if (symbol_phase<0.3926 and symbol_phase>=-0.3926):\n",
    "            bitStream.append(1)\n",
    "            bitStream.append(0)\n",
    "            bitStream.append(0)\n",
    "\n",
    "        if (symbol_phase< 1.178 and symbol_phase>=0.3926):\n",
    "            bitStream.append(0)\n",
    "            bitStream.append(1)\n",
    "            bitStream.append(1)\n",
    "            \n",
    "        if (symbol_phase< 1.9634 and symbol_phase>=1.178):\n",
    "            bitStream.append(0)\n",
    "            bitStream.append(1)\n",
    "            bitStream.append(0)\n",
    "            \n",
    "        if (symbol_phase< 2.7488 and symbol_phase>=1.9634):\n",
    "            bitStream.append(0)\n",
    "            bitStream.append(0)\n",
    "            bitStream.append(1)\n",
    "        \n",
    "        if (symbol_phase< -2.7488 or symbol_phase>=2.7488):\n",
    "            bitStream.append(0)\n",
    "            bitStream.append(0)\n",
    "            bitStream.append(0)\n",
    "            \n",
    "        if (symbol_phase<-1.9634 and symbol_phase>=-2.7488):\n",
    "            bitStream.append(1)\n",
    "            bitStream.append(1)\n",
    "            bitStream.append(1)\n",
    "            \n",
    "            \n",
    "        if (symbol_phase<-1.178 and symbol_phase>=-1.9634):\n",
    "            bitStream.append(1)\n",
    "            bitStream.append(1)\n",
    "            bitStream.append(0)\n",
    "\n",
    "        if (symbol_phase<-0.3926 and symbol_phase>=-1.178):\n",
    "            bitStream.append(1)\n",
    "            bitStream.append(0)\n",
    "            bitStream.append(1)\n",
    " \n",
    "            \n",
    "    return(bitStream)"
   ]
  },
  {
   "cell_type": "markdown",
   "metadata": {},
   "source": [
    "### Code to generate the whole Transmitted signal"
   ]
  },
  {
   "cell_type": "code",
   "execution_count": 19,
   "metadata": {},
   "outputs": [],
   "source": [
    "import numpy as np\n",
    "from math import pi\n",
    "import scipy.fftpack as sf"
   ]
  },
  {
   "cell_type": "code",
   "execution_count": 20,
   "metadata": {},
   "outputs": [],
   "source": [
    "def QAMsys(SNR, plot = 1, K=10, Ns=256, alpha=0.3, Bs=4,ConstellationVect = [-1, -0.333, 0.333, 1],Fif = 2e6):\n",
    "   \n",
    "#    # Upsampler Factor\n",
    "#    K = 10\n",
    "\n",
    "#    # Number of symbols\n",
    "#    Ns = 256\n",
    "\n",
    "#    # Roll-off factor\n",
    "#    alpha = 0.3\n",
    "\n",
    "#    # Bits per symbol\n",
    "#    Bs = 4\n",
    "\n",
    "   \n",
    "\n",
    "   # Intermediary frequency\n",
    "   Fif = 2e6\n",
    "\n",
    "   # Sampling Rate\n",
    "   Fs = Fif * K / 2\n",
    "   \n",
    "   # 16QAM Constellation vector\n",
    "   QAM16 = ConstellationVect\n",
    "\n",
    "   # Pseudo-Rand Generator with synchronization bits\n",
    "   data = dataGenerator(Ns * Bs)\n",
    "\n",
    "   # Slicer\n",
    "   (dataI, dataQ) = Slice(data)\n",
    "\n",
    "   # Mapper\n",
    "   mapI = Modulator16QAM(QAM16, dataI)\n",
    "   mapQ = Modulator16QAM(QAM16, dataQ)\n",
    "\n",
    "   # Up-sampler\n",
    "   upI = Upsampler(Ns, K, mapI)\n",
    "   upQ = Upsampler(Ns, K, mapQ)\n",
    "\n",
    "   # Shaping filter\n",
    "   [shape_I, a, b] = PulseShapping(upI, Ns, alpha, Fif, Fs)\n",
    "   [shape_Q, a, b] = PulseShapping(upQ, Ns, alpha, Fif, Fs)\n",
    "\n",
    "   template = b\n",
    "\n",
    "   # Oscillator\n",
    "   delta_phase = np.random.normal(0, np.pi / 3, 1)\n",
    "   delta_freq = np.random.normal(0, 20, 1)\n",
    "\n",
    "   (loCos_TX, t) = CarrierGen(0, 4e-4, 2 /\n",
    "                                 (Fif * K),  Fif + delta_freq, delta_phase + np.pi / 2)\n",
    "   (loSin_TX, t) = CarrierGen(0, 4e-4, 2 /\n",
    "                                 (Fif * K),  Fif + delta_freq, delta_phase)\n",
    "\n",
    "   # Mixers\n",
    "   mixI = Mixer(shape_I, loCos_TX)\n",
    "   mixQ = Mixer(shape_Q, loSin_TX)\n",
    "\n",
    "   # Combiner\n",
    "   IF = combiner(mixI, mixQ)\n",
    "   \n",
    "   return IF\n",
    "   \n"
   ]
  }
 ],
 "metadata": {
  "kernelspec": {
   "display_name": "Python 3",
   "language": "python",
   "name": "python3"
  },
  "language_info": {
   "codemirror_mode": {
    "name": "ipython",
    "version": 3
   },
   "file_extension": ".py",
   "mimetype": "text/x-python",
   "name": "python",
   "nbconvert_exporter": "python",
   "pygments_lexer": "ipython3",
   "version": "3.10.12"
  }
 },
 "nbformat": 4,
 "nbformat_minor": 2
}
